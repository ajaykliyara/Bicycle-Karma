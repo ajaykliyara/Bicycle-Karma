{
 "cells": [
  {
   "cell_type": "code",
   "execution_count": 1,
   "metadata": {
    "collapsed": false
   },
   "outputs": [],
   "source": [
    "import numpy as np\n",
    "import pandas as pd\n",
    "#package for JSON interaction\n",
    "import json\n",
    "#package to interact with URL's\n",
    "import urllib2\n",
    "\n",
    "#time to sleep\n",
    "import time\n",
    "pd.set_option('display.width', 500)\n",
    "pd.set_option('display.max_colwidth', 500)\n",
    "pd.set_option('display.max_columns', 100)\n",
    "pd.set_option('display.notebook_repr_html', True)\n"
   ]
  },
  {
   "cell_type": "code",
   "execution_count": 2,
   "metadata": {
    "collapsed": false
   },
   "outputs": [],
   "source": [
    "#function to parse \n",
    "def bike_parser(url,page_no):\n",
    "    time.sleep(0.5)\n",
    "    #open url\n",
    "    f = urllib2.urlopen(url)\n",
    "\n",
    "    #load json from URL, dict returned\n",
    "    data = json.load(f)\n",
    "    \n",
    "    data_bikes = data['bikes']\n",
    "    bike_df = pd.DataFrame(data_bikes,columns=['id','serial','title','manufacturer_name','frame_model','year','frame_colors','is_stock_img','large_img','thumb','stolen','date_stolen','stolen_location'])\n",
    "    bike_df['url'] = url.encode('utf-8')\n",
    "    bike_df['page_no'] = page_no\n",
    "\n",
    "    return bike_df\n",
    "\n"
   ]
  },
  {
   "cell_type": "code",
   "execution_count": 30,
   "metadata": {
    "collapsed": false
   },
   "outputs": [],
   "source": [
    "#getting bikeindex record id's \n",
    "\n",
    "#creating blank df\n",
    "bike_df = pd.DataFrame(columns=['id','serial','title','manufacturer_name','frame_model','year','frame_colors','is_stock_img','large_img','thumb','stolen','date_stolen','stolen_location','url','page_no'])\n",
    "cont_flag = True\n",
    "page_no = 1"
   ]
  },
  {
   "cell_type": "code",
   "execution_count": 31,
   "metadata": {
    "collapsed": false
   },
   "outputs": [
    {
     "name": "stdout",
     "output_type": "stream",
     "text": [
      "Pages parsed = 10, Records parsed = 800\n",
      "Pages parsed = 20, Records parsed = 1600\n",
      "Pages parsed = 30, Records parsed = 2400\n",
      "Pages parsed = 40, Records parsed = 3200\n",
      "Pages parsed = 50, Records parsed = 4000\n",
      "Pages parsed = 60, Records parsed = 4800\n",
      "Pages parsed = 70, Records parsed = 5600\n",
      "Pages parsed = 80, Records parsed = 6400\n",
      "Pages parsed = 90, Records parsed = 7200\n",
      "Pages parsed = 100, Records parsed = 8000\n",
      "Pages parsed = 110, Records parsed = 8800\n",
      "Pages parsed = 120, Records parsed = 9600\n",
      "Pages parsed = 130, Records parsed = 10400\n",
      "Pages parsed = 140, Records parsed = 11200\n",
      "Pages parsed = 150, Records parsed = 12000\n",
      "Pages parsed = 160, Records parsed = 12800\n",
      "Pages parsed = 170, Records parsed = 13600\n",
      "Pages parsed = 180, Records parsed = 14400\n",
      "Pages parsed = 190, Records parsed = 15200\n",
      "Pages parsed = 200, Records parsed = 16000\n",
      "Pages parsed = 210, Records parsed = 16800\n",
      "Pages parsed = 220, Records parsed = 17600\n",
      "Pages parsed = 230, Records parsed = 18400\n",
      "Pages parsed = 240, Records parsed = 19200\n",
      "Pages parsed = 250, Records parsed = 20000\n",
      "Pages parsed = 260, Records parsed = 20800\n",
      "Pages parsed = 270, Records parsed = 21600\n",
      "Pages parsed = 280, Records parsed = 22400\n",
      "Pages parsed = 290, Records parsed = 23200\n",
      "Pages parsed = 300, Records parsed = 24000\n",
      "Pages parsed = 310, Records parsed = 24800\n",
      "Pages parsed = 320, Records parsed = 25600\n",
      "Pages parsed = 330, Records parsed = 26400\n",
      "Pages parsed = 340, Records parsed = 27200\n",
      "Pages parsed = 350, Records parsed = 28000\n",
      "Pages parsed = 360, Records parsed = 28800\n",
      "Pages parsed = 370, Records parsed = 29600\n",
      "Pages parsed = 380, Records parsed = 30400\n",
      "Pages parsed = 390, Records parsed = 31200\n",
      "Pages parsed = 400, Records parsed = 32000\n",
      "Pages parsed = 410, Records parsed = 32800\n",
      "Pages parsed = 420, Records parsed = 33600\n",
      "Pages parsed = 430, Records parsed = 34400\n",
      "Pages parsed = 440, Records parsed = 35200\n",
      "Pages parsed = 450, Records parsed = 36000\n",
      "Pages parsed = 460, Records parsed = 36800\n",
      "Pages parsed = 470, Records parsed = 37600\n",
      "Pages parsed = 480, Records parsed = 38400\n",
      "Pages parsed = 490, Records parsed = 39200\n",
      "Pages parsed = 500, Records parsed = 40000\n",
      "Pages parsed = 510, Records parsed = 40800\n",
      "Pages parsed = 520, Records parsed = 41600\n",
      "Pages parsed = 530, Records parsed = 42400\n",
      "Pages parsed = 540, Records parsed = 43200\n",
      "Pages parsed = 550, Records parsed = 44000\n",
      "Pages parsed = 560, Records parsed = 44800\n",
      "Pages parsed = 570, Records parsed = 45600\n",
      "Pages parsed = 580, Records parsed = 46400\n",
      "Pages parsed = 590, Records parsed = 47200\n",
      "Pages parsed = 600, Records parsed = 48000\n",
      "Pages parsed = 610, Records parsed = 48800\n",
      "Pages parsed = 620, Records parsed = 49600\n",
      "Pages parsed = 630, Records parsed = 50400\n",
      "Pages parsed = 640, Records parsed = 51200\n",
      "Pages parsed = 650, Records parsed = 52000\n",
      "Pages parsed = 660, Records parsed = 52800\n",
      "Pages parsed = 670, Records parsed = 53600\n",
      "Pages parsed = 680, Records parsed = 54400\n",
      "Pages parsed = 690, Records parsed = 55200\n",
      "Pages parsed = 700, Records parsed = 56000\n",
      "Pages parsed = 710, Records parsed = 56800\n",
      "Pages parsed = 720, Records parsed = 57600\n",
      "Pages parsed = 730, Records parsed = 58400\n",
      "Pages parsed = 740, Records parsed = 59200\n",
      "Reached end of Pages, # of pages read = 748, # of records read = 59729\n"
     ]
    }
   ],
   "source": [
    "while(cont_flag):\n",
    "    url = 'https://bikeindex.org:443/api/v2/bikes_search?page=' + str(page_no) + '&per_page=80'\n",
    "\n",
    "    #dataframe with 100 bikes that was read from url\n",
    "    temp_bike_df = bike_parser(url,page_no)\n",
    "    \n",
    "    #checking # of records in page\n",
    "    if (temp_bike_df.shape[0] == 0):\n",
    "        print 'Reached end of Pages, # of pages read = %d, # of records read = %d'%(page_no,bike_df.shape[0])\n",
    "        cont_flag = False\n",
    "        break\n",
    "    \n",
    "    with open('bike_csv.csv', 'a') as f:\n",
    "        if page_no == 1:\n",
    "            temp_bike_df.to_csv(f, header=True,encoding='utf8')\n",
    "        else:\n",
    "            temp_bike_df.to_csv(f, header=False,encoding='utf8')\n",
    "\n",
    "    #appending temp df to final df\n",
    "    bike_df = bike_df.append(temp_bike_df,ignore_index=True)\n",
    "    \n",
    "\n",
    "    \n",
    "    #inserting print to get an indication of number of pages parsed so far\n",
    "    if page_no%10 == 0:\n",
    "        print('Pages parsed = %d, Records parsed = %d'%(page_no,bike_df.shape[0]))\n",
    "    \n",
    "    page_no = page_no + 1\n"
   ]
  },
  {
   "cell_type": "code",
   "execution_count": 22,
   "metadata": {
    "collapsed": false
   },
   "outputs": [
    {
     "name": "stdout",
     "output_type": "stream",
     "text": [
      "Records in Response header 59724,\n",
      " Records in final bike df 59723\n"
     ]
    }
   ],
   "source": [
    "#checking if total number of records are read\n",
    "\n",
    "#calling url to get response\n",
    "f = urllib2.urlopen('https://bikeindex.org:443/api/v2/bikes_search?page=1')\n",
    "\n",
    "#read total number of records from header\n",
    "Total_rec_response = f.info().getheader('Total')\n",
    "\n",
    "\n",
    "#bike_df = pd.read_csv('bike_csv.csv',header=0)\n",
    "\n",
    "#Both must be equal\n",
    "print 'Records in Response header %d,\\n Records in final bike df %d'%(int(Total_rec_response),bike_df.shape[0])\n"
   ]
  },
  {
   "cell_type": "code",
   "execution_count": 6,
   "metadata": {
    "collapsed": false
   },
   "outputs": [
    {
     "data": {
      "text/plain": [
       "51916"
      ]
     },
     "execution_count": 6,
     "metadata": {},
     "output_type": "execute_result"
    }
   ],
   "source": [
    "len(bike_df.id.unique())"
   ]
  },
  {
   "cell_type": "code",
   "execution_count": 2,
   "metadata": {
    "collapsed": true
   },
   "outputs": [],
   "source": [
    "bike_df = pd.read_csv('bike_csv_100.csv',header=0)"
   ]
  },
  {
   "cell_type": "code",
   "execution_count": 7,
   "metadata": {
    "collapsed": false
   },
   "outputs": [
    {
     "data": {
      "text/plain": [
       "(59722, 15)"
      ]
     },
     "execution_count": 7,
     "metadata": {},
     "output_type": "execute_result"
    }
   ],
   "source": [
    "bike_df.duplicated('id')\n",
    "#bike_df.shape"
   ]
  },
  {
   "cell_type": "code",
   "execution_count": 4,
   "metadata": {
    "collapsed": false
   },
   "outputs": [
    {
     "data": {
      "text/html": [
       "<div>\n",
       "<table border=\"1\" class=\"dataframe\">\n",
       "  <thead>\n",
       "    <tr style=\"text-align: right;\">\n",
       "      <th></th>\n",
       "      <th>Unnamed: 0</th>\n",
       "      <th>id</th>\n",
       "      <th>serial</th>\n",
       "      <th>title</th>\n",
       "      <th>manufacturer_name</th>\n",
       "      <th>frame_model</th>\n",
       "      <th>year</th>\n",
       "      <th>frame_colors</th>\n",
       "      <th>is_stock_img</th>\n",
       "      <th>large_img</th>\n",
       "      <th>thumb</th>\n",
       "      <th>stolen</th>\n",
       "      <th>date_stolen</th>\n",
       "      <th>stolen_location</th>\n",
       "      <th>url</th>\n",
       "      <th>page_no</th>\n",
       "    </tr>\n",
       "  </thead>\n",
       "  <tbody>\n",
       "    <tr>\n",
       "      <th>297</th>\n",
       "      <td>97</td>\n",
       "      <td>61513</td>\n",
       "      <td>absent</td>\n",
       "      <td>2011 Novara randonnee</td>\n",
       "      <td>Novara</td>\n",
       "      <td>randonnee</td>\n",
       "      <td>2011</td>\n",
       "      <td>[Green]</td>\n",
       "      <td>False</td>\n",
       "      <td>NaN</td>\n",
       "      <td>NaN</td>\n",
       "      <td>True</td>\n",
       "      <td>1445234400</td>\n",
       "      <td>Alameda, 94501</td>\n",
       "      <td>https://bikeindex.org:443/api/v2/bikes_search?page=3&amp;per_page=100</td>\n",
       "      <td>3</td>\n",
       "    </tr>\n",
       "    <tr>\n",
       "      <th>307</th>\n",
       "      <td>7</td>\n",
       "      <td>61513</td>\n",
       "      <td>absent</td>\n",
       "      <td>2011 Novara randonnee</td>\n",
       "      <td>Novara</td>\n",
       "      <td>randonnee</td>\n",
       "      <td>2011</td>\n",
       "      <td>[Green]</td>\n",
       "      <td>False</td>\n",
       "      <td>NaN</td>\n",
       "      <td>NaN</td>\n",
       "      <td>True</td>\n",
       "      <td>1445234400</td>\n",
       "      <td>Alameda, 94501</td>\n",
       "      <td>https://bikeindex.org:443/api/v2/bikes_search?page=4&amp;per_page=100</td>\n",
       "      <td>4</td>\n",
       "    </tr>\n",
       "  </tbody>\n",
       "</table>\n",
       "</div>"
      ],
      "text/plain": [
       "     Unnamed: 0     id  serial                  title manufacturer_name frame_model  year frame_colors is_stock_img large_img thumb stolen  date_stolen stolen_location                                                                url  page_no\n",
       "297          97  61513  absent  2011 Novara randonnee            Novara   randonnee  2011      [Green]        False       NaN   NaN   True   1445234400  Alameda, 94501  https://bikeindex.org:443/api/v2/bikes_search?page=3&per_page=100        3\n",
       "307           7  61513  absent  2011 Novara randonnee            Novara   randonnee  2011      [Green]        False       NaN   NaN   True   1445234400  Alameda, 94501  https://bikeindex.org:443/api/v2/bikes_search?page=4&per_page=100        4"
      ]
     },
     "execution_count": 4,
     "metadata": {},
     "output_type": "execute_result"
    }
   ],
   "source": [
    "#bike_df.loc[bike_df.duplicated('id'),]\n",
    "bike_df.loc[bike_df.id == 61513,]"
   ]
  },
  {
   "cell_type": "code",
   "execution_count": 107,
   "metadata": {
    "collapsed": false
   },
   "outputs": [],
   "source": [
    "x = bike_parser('https://bikeindex.org:443/api/v2/bikes_search?page=1&per_page=110',1)"
   ]
  },
  {
   "cell_type": "code",
   "execution_count": 108,
   "metadata": {
    "collapsed": false
   },
   "outputs": [
    {
     "data": {
      "text/plain": [
       "(100, 15)"
      ]
     },
     "execution_count": 108,
     "metadata": {},
     "output_type": "execute_result"
    }
   ],
   "source": [
    "x.shape"
   ]
  },
  {
   "cell_type": "code",
   "execution_count": 43,
   "metadata": {
    "collapsed": false
   },
   "outputs": [
    {
     "data": {
      "text/html": [
       "<div>\n",
       "<table border=\"1\" class=\"dataframe\">\n",
       "  <thead>\n",
       "    <tr style=\"text-align: right;\">\n",
       "      <th></th>\n",
       "      <th>Unnamed: 0</th>\n",
       "      <th>id</th>\n",
       "      <th>serial</th>\n",
       "      <th>title</th>\n",
       "      <th>manufacturer_name</th>\n",
       "      <th>frame_model</th>\n",
       "      <th>year</th>\n",
       "      <th>frame_colors</th>\n",
       "      <th>is_stock_img</th>\n",
       "      <th>large_img</th>\n",
       "      <th>thumb</th>\n",
       "      <th>date_stolen</th>\n",
       "      <th>stolen_location</th>\n",
       "    </tr>\n",
       "    <tr>\n",
       "      <th>stolen</th>\n",
       "      <th></th>\n",
       "      <th></th>\n",
       "      <th></th>\n",
       "      <th></th>\n",
       "      <th></th>\n",
       "      <th></th>\n",
       "      <th></th>\n",
       "      <th></th>\n",
       "      <th></th>\n",
       "      <th></th>\n",
       "      <th></th>\n",
       "      <th></th>\n",
       "      <th></th>\n",
       "    </tr>\n",
       "  </thead>\n",
       "  <tbody>\n",
       "    <tr>\n",
       "      <th>False</th>\n",
       "      <td>26537</td>\n",
       "      <td>26537</td>\n",
       "      <td>26532</td>\n",
       "      <td>26537</td>\n",
       "      <td>26535</td>\n",
       "      <td>24108</td>\n",
       "      <td>17849</td>\n",
       "      <td>26537</td>\n",
       "      <td>26537</td>\n",
       "      <td>11900</td>\n",
       "      <td>11900</td>\n",
       "      <td>30</td>\n",
       "      <td>30</td>\n",
       "    </tr>\n",
       "    <tr>\n",
       "      <th>True</th>\n",
       "      <td>33173</td>\n",
       "      <td>33173</td>\n",
       "      <td>33163</td>\n",
       "      <td>33173</td>\n",
       "      <td>33173</td>\n",
       "      <td>30719</td>\n",
       "      <td>27139</td>\n",
       "      <td>33173</td>\n",
       "      <td>33173</td>\n",
       "      <td>16268</td>\n",
       "      <td>16268</td>\n",
       "      <td>33173</td>\n",
       "      <td>32784</td>\n",
       "    </tr>\n",
       "    <tr>\n",
       "      <th>stolen</th>\n",
       "      <td>0</td>\n",
       "      <td>1</td>\n",
       "      <td>1</td>\n",
       "      <td>1</td>\n",
       "      <td>1</td>\n",
       "      <td>1</td>\n",
       "      <td>1</td>\n",
       "      <td>1</td>\n",
       "      <td>1</td>\n",
       "      <td>1</td>\n",
       "      <td>1</td>\n",
       "      <td>1</td>\n",
       "      <td>1</td>\n",
       "    </tr>\n",
       "  </tbody>\n",
       "</table>\n",
       "</div>"
      ],
      "text/plain": [
       "        Unnamed: 0     id  serial  title  manufacturer_name  frame_model  \\\n",
       "stolen                                                                     \n",
       "False        26537  26537   26532  26537              26535        24108   \n",
       "True         33173  33173   33163  33173              33173        30719   \n",
       "stolen           0      1       1      1                  1            1   \n",
       "\n",
       "         year  frame_colors  is_stock_img  large_img  thumb  date_stolen  \\\n",
       "stolen                                                                     \n",
       "False   17849         26537         26537      11900  11900           30   \n",
       "True    27139         33173         33173      16268  16268        33173   \n",
       "stolen      1             1             1          1      1            1   \n",
       "\n",
       "        stolen_location  \n",
       "stolen                   \n",
       "False                30  \n",
       "True              32784  \n",
       "stolen                1  "
      ]
     },
     "execution_count": 43,
     "metadata": {},
     "output_type": "execute_result"
    }
   ],
   "source": [
    "bike_df.groupby('stolen').count()"
   ]
  },
  {
   "cell_type": "code",
   "execution_count": 82,
   "metadata": {
    "collapsed": false
   },
   "outputs": [
    {
     "data": {
      "text/plain": [
       "'2015-11-02 00:02:00'"
      ]
     },
     "execution_count": 82,
     "metadata": {},
     "output_type": "execute_result"
    }
   ],
   "source": [
    "time.strftime('%Y-%m-%d %H:%M:%S',time.gmtime(1446422520))"
   ]
  },
  {
   "cell_type": "code",
   "execution_count": 85,
   "metadata": {
    "collapsed": false
   },
   "outputs": [
    {
     "data": {
      "text/plain": [
       "'1970-01-01 00:00:00'"
      ]
     },
     "execution_count": 85,
     "metadata": {},
     "output_type": "execute_result"
    }
   ],
   "source": [
    "time.strftime('%Y-%m-%d %H:%M:%S',time.gmtime(0))"
   ]
  },
  {
   "cell_type": "code",
   "execution_count": 57,
   "metadata": {
    "collapsed": false
   },
   "outputs": [
    {
     "data": {
      "text/html": [
       "<div>\n",
       "<table border=\"1\" class=\"dataframe\">\n",
       "  <thead>\n",
       "    <tr style=\"text-align: right;\">\n",
       "      <th></th>\n",
       "      <th>date_stolen</th>\n",
       "      <th>frame_colors</th>\n",
       "      <th>frame_model</th>\n",
       "      <th>id</th>\n",
       "      <th>is_stock_img</th>\n",
       "      <th>large_img</th>\n",
       "      <th>manufacturer_name</th>\n",
       "      <th>serial</th>\n",
       "      <th>stolen</th>\n",
       "      <th>stolen_location</th>\n",
       "      <th>thumb</th>\n",
       "      <th>title</th>\n",
       "      <th>year</th>\n",
       "    </tr>\n",
       "  </thead>\n",
       "  <tbody>\n",
       "    <tr>\n",
       "      <th>0</th>\n",
       "      <td>1446184800</td>\n",
       "      <td>[White]</td>\n",
       "      <td>Quick CX 3</td>\n",
       "      <td>61785</td>\n",
       "      <td>False</td>\n",
       "      <td>https://files.bikeindex.org/uploads/Pu/38855/l...</td>\n",
       "      <td>Cannondale</td>\n",
       "      <td>qm78307</td>\n",
       "      <td>True</td>\n",
       "      <td>Santa Cruz, CA, 95062</td>\n",
       "      <td>https://files.bikeindex.org/uploads/Pu/38855/s...</td>\n",
       "      <td>2012 Cannondale Quick CX 3</td>\n",
       "      <td>2012</td>\n",
       "    </tr>\n",
       "    <tr>\n",
       "      <th>1</th>\n",
       "      <td>1446184800</td>\n",
       "      <td>[Black, Red]</td>\n",
       "      <td>Sirrus Elite Carbon</td>\n",
       "      <td>61938</td>\n",
       "      <td>False</td>\n",
       "      <td>https://files.bikeindex.org/uploads/Pu/39197/l...</td>\n",
       "      <td>Specialized</td>\n",
       "      <td>WSBC604106563K</td>\n",
       "      <td>True</td>\n",
       "      <td>San Francisco, 94107</td>\n",
       "      <td>https://files.bikeindex.org/uploads/Pu/39197/s...</td>\n",
       "      <td>2016 Specialized Sirrus Elite Carbon</td>\n",
       "      <td>2016</td>\n",
       "    </tr>\n",
       "  </tbody>\n",
       "</table>\n",
       "</div>"
      ],
      "text/plain": [
       "   date_stolen  frame_colors          frame_model     id is_stock_img  \\\n",
       "0   1446184800       [White]           Quick CX 3  61785        False   \n",
       "1   1446184800  [Black, Red]  Sirrus Elite Carbon  61938        False   \n",
       "\n",
       "                                           large_img manufacturer_name  \\\n",
       "0  https://files.bikeindex.org/uploads/Pu/38855/l...        Cannondale   \n",
       "1  https://files.bikeindex.org/uploads/Pu/39197/l...       Specialized   \n",
       "\n",
       "           serial stolen        stolen_location  \\\n",
       "0         qm78307   True  Santa Cruz, CA, 95062   \n",
       "1  WSBC604106563K   True   San Francisco, 94107   \n",
       "\n",
       "                                               thumb  \\\n",
       "0  https://files.bikeindex.org/uploads/Pu/38855/s...   \n",
       "1  https://files.bikeindex.org/uploads/Pu/39197/s...   \n",
       "\n",
       "                                  title  year  \n",
       "0            2012 Cannondale Quick CX 3  2012  \n",
       "1  2016 Specialized Sirrus Elite Carbon  2016  "
      ]
     },
     "execution_count": 57,
     "metadata": {},
     "output_type": "execute_result"
    }
   ],
   "source": [
    "df.head(2)"
   ]
  },
  {
   "cell_type": "code",
   "execution_count": 82,
   "metadata": {
    "collapsed": false
   },
   "outputs": [],
   "source": [
    "bike_df.to_csv(\"bike_df.csv\",encoding='utf8')\n"
   ]
  },
  {
   "cell_type": "code",
   "execution_count": 32,
   "metadata": {
    "collapsed": true
   },
   "outputs": [],
   "source": [
    "#api does not follow the same order during searches, to address this pulled data 25,75,100,90 per page with the intention with multiple\n",
    "#pulls we will be able to get more id's\n",
    "bike1 = pd.read_csv('old_bike_csv.csv')\n",
    "bike2 = pd.read_csv('bike_csv_100.csv')\n",
    "bike3 = pd.read_csv('bike_csv_75.csv')\n",
    "bike4 = pd.read_csv('bike_csv_90.csv')\n",
    "bike5 = pd.read_csv('bike_csv_80.csv')"
   ]
  },
  {
   "cell_type": "code",
   "execution_count": 165,
   "metadata": {
    "collapsed": false
   },
   "outputs": [],
   "source": [
    "#bike2.id"
   ]
  },
  {
   "cell_type": "code",
   "execution_count": 34,
   "metadata": {
    "collapsed": false
   },
   "outputs": [],
   "source": [
    "id1 = bike1.id.unique().tolist()\n",
    "id2 = bike2.id.unique().tolist()\n",
    "id3 = bike3.id.unique().tolist()\n",
    "id4 = bike4.id.unique().tolist()\n",
    "id5 = bike5.id.unique().tolist()"
   ]
  },
  {
   "cell_type": "code",
   "execution_count": 35,
   "metadata": {
    "collapsed": false
   },
   "outputs": [],
   "source": [
    "id1 = [str(i) for i in id1]\n",
    "id2 = [str(i) for i in id2]\n",
    "id3 = [str(i) for i in id3]\n",
    "id4 = [str(i) for i in id4]\n",
    "id5 = [str(i) for i in id5]"
   ]
  },
  {
   "cell_type": "code",
   "execution_count": 36,
   "metadata": {
    "collapsed": false
   },
   "outputs": [],
   "source": [
    "id_f = id1\n",
    "id_f.extend(id2)"
   ]
  },
  {
   "cell_type": "code",
   "execution_count": 37,
   "metadata": {
    "collapsed": true
   },
   "outputs": [],
   "source": [
    "id_f.extend(id3)"
   ]
  },
  {
   "cell_type": "code",
   "execution_count": 38,
   "metadata": {
    "collapsed": true
   },
   "outputs": [],
   "source": [
    "id_f.extend(id4)"
   ]
  },
  {
   "cell_type": "code",
   "execution_count": 39,
   "metadata": {
    "collapsed": true
   },
   "outputs": [],
   "source": [
    "id_f.extend(id5)"
   ]
  },
  {
   "cell_type": "code",
   "execution_count": 40,
   "metadata": {
    "collapsed": false
   },
   "outputs": [
    {
     "data": {
      "text/plain": [
       "59624"
      ]
     },
     "execution_count": 40,
     "metadata": {},
     "output_type": "execute_result"
    }
   ],
   "source": [
    "len(set(id_f))"
   ]
  },
  {
   "cell_type": "code",
   "execution_count": 42,
   "metadata": {
    "collapsed": false
   },
   "outputs": [],
   "source": [
    "id_s = pd.Series(list(set(id_f)))"
   ]
  },
  {
   "cell_type": "code",
   "execution_count": 46,
   "metadata": {
    "collapsed": false
   },
   "outputs": [],
   "source": [
    "id_s.name = 'id'"
   ]
  },
  {
   "cell_type": "code",
   "execution_count": 49,
   "metadata": {
    "collapsed": false
   },
   "outputs": [],
   "source": [
    "id_s.to_csv?"
   ]
  },
  {
   "cell_type": "code",
   "execution_count": 50,
   "metadata": {
    "collapsed": false
   },
   "outputs": [],
   "source": [
    "id_s.to_csv(\"bike_id_master.csv\",header=True)"
   ]
  },
  {
   "cell_type": "code",
   "execution_count": 98,
   "metadata": {
    "collapsed": false
   },
   "outputs": [],
   "source": [
    "bike = pd.read_csv('bike_csv.csv')"
   ]
  },
  {
   "cell_type": "code",
   "execution_count": 99,
   "metadata": {
    "collapsed": false
   },
   "outputs": [],
   "source": [
    "bike = bike.drop('Unnamed: 0',axis=1)"
   ]
  },
  {
   "cell_type": "code",
   "execution_count": 100,
   "metadata": {
    "collapsed": false
   },
   "outputs": [
    {
     "data": {
      "text/plain": [
       "(59723, 15)"
      ]
     },
     "execution_count": 100,
     "metadata": {},
     "output_type": "execute_result"
    }
   ],
   "source": [
    "bike.shape"
   ]
  },
  {
   "cell_type": "code",
   "execution_count": 101,
   "metadata": {
    "collapsed": false
   },
   "outputs": [],
   "source": [
    "bike = bike.drop_duplicates('id')"
   ]
  },
  {
   "cell_type": "code",
   "execution_count": 70,
   "metadata": {
    "collapsed": false
   },
   "outputs": [
    {
     "data": {
      "text/plain": [
       "0        2013\n",
       "1        2014\n",
       "2        1995\n",
       "3        2006\n",
       "4        1985\n",
       "5        2015\n",
       "6        2015\n",
       "7        2006\n",
       "8        2015\n",
       "9        1991\n",
       "10       2008\n",
       "11       2010\n",
       "12       2015\n",
       "13       2015\n",
       "14       2013\n",
       "15       2013\n",
       "16       2011\n",
       "17       2015\n",
       "18       2015\n",
       "19       2015\n",
       "20        NaN\n",
       "21       2015\n",
       "22       2006\n",
       "23       2015\n",
       "24       2009\n",
       "25       2015\n",
       "26       2015\n",
       "27       2009\n",
       "28       2006\n",
       "29        NaN\n",
       "         ... \n",
       "59633     NaN\n",
       "59638    2011\n",
       "59642    2015\n",
       "59645     NaN\n",
       "59648    1972\n",
       "59655     NaN\n",
       "59656     NaN\n",
       "59658     NaN\n",
       "59660    2016\n",
       "59663     NaN\n",
       "59665     NaN\n",
       "59667     NaN\n",
       "59668     NaN\n",
       "59670    1992\n",
       "59673     NaN\n",
       "59676     NaN\n",
       "59693     NaN\n",
       "59696     NaN\n",
       "59697     NaN\n",
       "59698    2015\n",
       "59702    2015\n",
       "59704     NaN\n",
       "59708    2015\n",
       "59709    2015\n",
       "59710     NaN\n",
       "59711     NaN\n",
       "59715    2009\n",
       "59718    2015\n",
       "59721    2012\n",
       "59722    2016\n",
       "Name: year, dtype: float64"
      ]
     },
     "execution_count": 70,
     "metadata": {},
     "output_type": "execute_result"
    }
   ],
   "source": [
    "bike.year"
   ]
  },
  {
   "cell_type": "code",
   "execution_count": 102,
   "metadata": {
    "collapsed": false
   },
   "outputs": [],
   "source": [
    "bike['date_stolen_epoch'] = bike['date_stolen']"
   ]
  },
  {
   "cell_type": "code",
   "execution_count": 111,
   "metadata": {
    "collapsed": true
   },
   "outputs": [],
   "source": [
    "flag = np.isnan(bike['date_stolen'])"
   ]
  },
  {
   "cell_type": "code",
   "execution_count": 113,
   "metadata": {
    "collapsed": false
   },
   "outputs": [],
   "source": [
    "flag = [flag == False]"
   ]
  },
  {
   "cell_type": "code",
   "execution_count": 114,
   "metadata": {
    "collapsed": false
   },
   "outputs": [
    {
     "data": {
      "text/plain": [
       "[0         True\n",
       " 1         True\n",
       " 2         True\n",
       " 3         True\n",
       " 4         True\n",
       " 5         True\n",
       " 6         True\n",
       " 7         True\n",
       " 8         True\n",
       " 9         True\n",
       " 10        True\n",
       " 11        True\n",
       " 12        True\n",
       " 13        True\n",
       " 14        True\n",
       " 15        True\n",
       " 16        True\n",
       " 17        True\n",
       " 18        True\n",
       " 19        True\n",
       " 20        True\n",
       " 21        True\n",
       " 22        True\n",
       " 23        True\n",
       " 24        True\n",
       " 25        True\n",
       " 26        True\n",
       " 27        True\n",
       " 28        True\n",
       " 29        True\n",
       "          ...  \n",
       " 59633    False\n",
       " 59638    False\n",
       " 59642    False\n",
       " 59645    False\n",
       " 59648    False\n",
       " 59655    False\n",
       " 59656    False\n",
       " 59658    False\n",
       " 59660    False\n",
       " 59663    False\n",
       " 59665    False\n",
       " 59667    False\n",
       " 59668    False\n",
       " 59670    False\n",
       " 59673    False\n",
       " 59676    False\n",
       " 59693    False\n",
       " 59696    False\n",
       " 59697    False\n",
       " 59698    False\n",
       " 59702    False\n",
       " 59704    False\n",
       " 59708    False\n",
       " 59709    False\n",
       " 59710    False\n",
       " 59711    False\n",
       " 59715    False\n",
       " 59718    False\n",
       " 59721    False\n",
       " 59722    False\n",
       " Name: date_stolen, dtype: bool]"
      ]
     },
     "execution_count": 114,
     "metadata": {},
     "output_type": "execute_result"
    }
   ],
   "source": [
    "flag"
   ]
  },
  {
   "cell_type": "code",
   "execution_count": 105,
   "metadata": {
    "collapsed": false
   },
   "outputs": [
    {
     "data": {
      "text/plain": [
       "51991"
      ]
     },
     "execution_count": 105,
     "metadata": {},
     "output_type": "execute_result"
    }
   ],
   "source": [
    "len(bike['date_stolen_epoch'])"
   ]
  },
  {
   "cell_type": "code",
   "execution_count": 116,
   "metadata": {
    "collapsed": false
   },
   "outputs": [
    {
     "ename": "Exception",
     "evalue": "Data must be 1-dimensional",
     "output_type": "error",
     "traceback": [
      "\u001b[1;31m---------------------------------------------------------------------------\u001b[0m",
      "\u001b[1;31mException\u001b[0m                                 Traceback (most recent call last)",
      "\u001b[1;32m<ipython-input-116-44a465a24be4>\u001b[0m in \u001b[0;36m<module>\u001b[1;34m()\u001b[0m\n\u001b[1;32m----> 1\u001b[1;33m \u001b[0mbike\u001b[0m\u001b[1;33m[\u001b[0m\u001b[1;34m'date_stolen'\u001b[0m\u001b[1;33m]\u001b[0m \u001b[1;33m=\u001b[0m \u001b[0mflag\u001b[0m \u001b[1;33m*\u001b[0m \u001b[0mbike\u001b[0m\u001b[1;33m[\u001b[0m\u001b[1;34m'date_stolen_epoch'\u001b[0m\u001b[1;33m]\u001b[0m\u001b[1;33m\u001b[0m\u001b[0m\n\u001b[0m",
      "\u001b[1;32mC:\\Users\\ajayan\\Anaconda\\lib\\site-packages\\pandas\\core\\ops.pyc\u001b[0m in \u001b[0;36mwrapper\u001b[1;34m(left, right, name)\u001b[0m\n\u001b[0;32m    532\u001b[0m             return left._constructor(wrap_results(na_op(lvalues, rvalues)),\n\u001b[0;32m    533\u001b[0m                                      \u001b[0mindex\u001b[0m\u001b[1;33m=\u001b[0m\u001b[0mleft\u001b[0m\u001b[1;33m.\u001b[0m\u001b[0mindex\u001b[0m\u001b[1;33m,\u001b[0m \u001b[0mname\u001b[0m\u001b[1;33m=\u001b[0m\u001b[0mleft\u001b[0m\u001b[1;33m.\u001b[0m\u001b[0mname\u001b[0m\u001b[1;33m,\u001b[0m\u001b[1;33m\u001b[0m\u001b[0m\n\u001b[1;32m--> 534\u001b[1;33m                                      dtype=dtype)\n\u001b[0m\u001b[0;32m    535\u001b[0m     \u001b[1;32mreturn\u001b[0m \u001b[0mwrapper\u001b[0m\u001b[1;33m\u001b[0m\u001b[0m\n\u001b[0;32m    536\u001b[0m \u001b[1;33m\u001b[0m\u001b[0m\n",
      "\u001b[1;32mC:\\Users\\ajayan\\Anaconda\\lib\\site-packages\\pandas\\core\\series.pyc\u001b[0m in \u001b[0;36m__init__\u001b[1;34m(self, data, index, dtype, name, copy, fastpath)\u001b[0m\n\u001b[0;32m    216\u001b[0m             \u001b[1;32melse\u001b[0m\u001b[1;33m:\u001b[0m\u001b[1;33m\u001b[0m\u001b[0m\n\u001b[0;32m    217\u001b[0m                 data = _sanitize_array(data, index, dtype, copy,\n\u001b[1;32m--> 218\u001b[1;33m                                        raise_cast_failure=True)\n\u001b[0m\u001b[0;32m    219\u001b[0m \u001b[1;33m\u001b[0m\u001b[0m\n\u001b[0;32m    220\u001b[0m                 \u001b[0mdata\u001b[0m \u001b[1;33m=\u001b[0m \u001b[0mSingleBlockManager\u001b[0m\u001b[1;33m(\u001b[0m\u001b[0mdata\u001b[0m\u001b[1;33m,\u001b[0m \u001b[0mindex\u001b[0m\u001b[1;33m,\u001b[0m \u001b[0mfastpath\u001b[0m\u001b[1;33m=\u001b[0m\u001b[0mTrue\u001b[0m\u001b[1;33m)\u001b[0m\u001b[1;33m\u001b[0m\u001b[0m\n",
      "\u001b[1;32mC:\\Users\\ajayan\\Anaconda\\lib\\site-packages\\pandas\\core\\series.pyc\u001b[0m in \u001b[0;36m_sanitize_array\u001b[1;34m(data, index, dtype, copy, raise_cast_failure)\u001b[0m\n\u001b[0;32m   2718\u001b[0m     \u001b[1;32melif\u001b[0m \u001b[0msubarr\u001b[0m\u001b[1;33m.\u001b[0m\u001b[0mndim\u001b[0m \u001b[1;33m>\u001b[0m \u001b[1;36m1\u001b[0m\u001b[1;33m:\u001b[0m\u001b[1;33m\u001b[0m\u001b[0m\n\u001b[0;32m   2719\u001b[0m         \u001b[1;32mif\u001b[0m \u001b[0misinstance\u001b[0m\u001b[1;33m(\u001b[0m\u001b[0mdata\u001b[0m\u001b[1;33m,\u001b[0m \u001b[0mnp\u001b[0m\u001b[1;33m.\u001b[0m\u001b[0mndarray\u001b[0m\u001b[1;33m)\u001b[0m\u001b[1;33m:\u001b[0m\u001b[1;33m\u001b[0m\u001b[0m\n\u001b[1;32m-> 2720\u001b[1;33m             \u001b[1;32mraise\u001b[0m \u001b[0mException\u001b[0m\u001b[1;33m(\u001b[0m\u001b[1;34m'Data must be 1-dimensional'\u001b[0m\u001b[1;33m)\u001b[0m\u001b[1;33m\u001b[0m\u001b[0m\n\u001b[0m\u001b[0;32m   2721\u001b[0m         \u001b[1;32melse\u001b[0m\u001b[1;33m:\u001b[0m\u001b[1;33m\u001b[0m\u001b[0m\n\u001b[0;32m   2722\u001b[0m             \u001b[0msubarr\u001b[0m \u001b[1;33m=\u001b[0m \u001b[0m_asarray_tuplesafe\u001b[0m\u001b[1;33m(\u001b[0m\u001b[0mdata\u001b[0m\u001b[1;33m,\u001b[0m \u001b[0mdtype\u001b[0m\u001b[1;33m=\u001b[0m\u001b[0mdtype\u001b[0m\u001b[1;33m)\u001b[0m\u001b[1;33m\u001b[0m\u001b[0m\n",
      "\u001b[1;31mException\u001b[0m: Data must be 1-dimensional"
     ]
    }
   ],
   "source": [
    "bike['date_stolen'] = flag * bike['date_stolen_epoch']"
   ]
  },
  {
   "cell_type": "code",
   "execution_count": 110,
   "metadata": {
    "collapsed": false
   },
   "outputs": [
    {
     "data": {
      "text/plain": [
       "0         0\n",
       "1         0\n",
       "2         0\n",
       "3         0\n",
       "4         0\n",
       "5         0\n",
       "6         0\n",
       "7         0\n",
       "8         0\n",
       "9         0\n",
       "10        0\n",
       "11        0\n",
       "12        0\n",
       "13        0\n",
       "14        0\n",
       "15        0\n",
       "16        0\n",
       "17        0\n",
       "18        0\n",
       "19        0\n",
       "20        0\n",
       "21        0\n",
       "22        0\n",
       "23        0\n",
       "24        0\n",
       "25        0\n",
       "26        0\n",
       "27        0\n",
       "28        0\n",
       "29        0\n",
       "         ..\n",
       "59633   NaN\n",
       "59638   NaN\n",
       "59642   NaN\n",
       "59645   NaN\n",
       "59648   NaN\n",
       "59655   NaN\n",
       "59656   NaN\n",
       "59658   NaN\n",
       "59660   NaN\n",
       "59663   NaN\n",
       "59665   NaN\n",
       "59667   NaN\n",
       "59668   NaN\n",
       "59670   NaN\n",
       "59673   NaN\n",
       "59676   NaN\n",
       "59693   NaN\n",
       "59696   NaN\n",
       "59697   NaN\n",
       "59698   NaN\n",
       "59702   NaN\n",
       "59704   NaN\n",
       "59708   NaN\n",
       "59709   NaN\n",
       "59710   NaN\n",
       "59711   NaN\n",
       "59715   NaN\n",
       "59718   NaN\n",
       "59721   NaN\n",
       "59722   NaN\n",
       "Name: date_stolen, dtype: float64"
      ]
     },
     "execution_count": 110,
     "metadata": {},
     "output_type": "execute_result"
    }
   ],
   "source": [
    "bike['date_stolen']"
   ]
  },
  {
   "cell_type": "code",
   "execution_count": 97,
   "metadata": {
    "collapsed": false
   },
   "outputs": [
    {
     "data": {
      "text/plain": [
       "0         0\n",
       "1         0\n",
       "2         0\n",
       "3         0\n",
       "4         0\n",
       "5         0\n",
       "6         0\n",
       "7         0\n",
       "8         0\n",
       "9         0\n",
       "10        0\n",
       "11        0\n",
       "12        0\n",
       "13        0\n",
       "14        0\n",
       "15        0\n",
       "16        0\n",
       "17        0\n",
       "18        0\n",
       "19        0\n",
       "20        0\n",
       "21        0\n",
       "22        0\n",
       "23        0\n",
       "24        0\n",
       "25        0\n",
       "26        0\n",
       "27        0\n",
       "28        0\n",
       "29        0\n",
       "         ..\n",
       "59633   NaN\n",
       "59638   NaN\n",
       "59642   NaN\n",
       "59645   NaN\n",
       "59648   NaN\n",
       "59655   NaN\n",
       "59656   NaN\n",
       "59658   NaN\n",
       "59660   NaN\n",
       "59663   NaN\n",
       "59665   NaN\n",
       "59667   NaN\n",
       "59668   NaN\n",
       "59670   NaN\n",
       "59673   NaN\n",
       "59676   NaN\n",
       "59693   NaN\n",
       "59696   NaN\n",
       "59697   NaN\n",
       "59698   NaN\n",
       "59702   NaN\n",
       "59704   NaN\n",
       "59708   NaN\n",
       "59709   NaN\n",
       "59710   NaN\n",
       "59711   NaN\n",
       "59715   NaN\n",
       "59718   NaN\n",
       "59721   NaN\n",
       "59722   NaN\n",
       "Name: date_stolen, dtype: float64"
      ]
     },
     "execution_count": 97,
     "metadata": {},
     "output_type": "execute_result"
    }
   ],
   "source": [
    "bike['date_stolen']"
   ]
  },
  {
   "cell_type": "code",
   "execution_count": 96,
   "metadata": {
    "collapsed": false
   },
   "outputs": [
    {
     "ename": "ValueError",
     "evalue": "(22, 'Invalid argument')",
     "output_type": "error",
     "traceback": [
      "\u001b[1;31m---------------------------------------------------------------------------\u001b[0m",
      "\u001b[1;31mValueError\u001b[0m                                Traceback (most recent call last)",
      "\u001b[1;32m<ipython-input-96-2ebe3616329b>\u001b[0m in \u001b[0;36m<module>\u001b[1;34m()\u001b[0m\n\u001b[0;32m      1\u001b[0m \u001b[0mli\u001b[0m \u001b[1;33m=\u001b[0m \u001b[0mlist\u001b[0m\u001b[1;33m(\u001b[0m\u001b[0mbike\u001b[0m\u001b[1;33m[\u001b[0m\u001b[1;34m'date_stolen'\u001b[0m\u001b[1;33m]\u001b[0m\u001b[1;33m)\u001b[0m\u001b[1;33m\u001b[0m\u001b[0m\n\u001b[1;32m----> 2\u001b[1;33m \u001b[0mdate_stolen_list\u001b[0m \u001b[1;33m=\u001b[0m \u001b[1;33m[\u001b[0m\u001b[0mtime\u001b[0m\u001b[1;33m.\u001b[0m\u001b[0mstrftime\u001b[0m\u001b[1;33m(\u001b[0m\u001b[1;34m'%Y-%m-%d %H:%M:%S'\u001b[0m\u001b[1;33m,\u001b[0m\u001b[0mtime\u001b[0m\u001b[1;33m.\u001b[0m\u001b[0mgmtime\u001b[0m\u001b[1;33m(\u001b[0m\u001b[0mdt\u001b[0m\u001b[1;33m)\u001b[0m\u001b[1;33m)\u001b[0m \u001b[1;32mfor\u001b[0m \u001b[0mdt\u001b[0m \u001b[1;32min\u001b[0m \u001b[0mli\u001b[0m\u001b[1;33m]\u001b[0m\u001b[1;33m\u001b[0m\u001b[0m\n\u001b[0m",
      "\u001b[1;31mValueError\u001b[0m: (22, 'Invalid argument')"
     ]
    }
   ],
   "source": [
    "li = list(bike['date_stolen'])\n",
    "date_stolen_list = [time.strftime('%Y-%m-%d %H:%M:%S',time.gmtime(dt)) for dt in li]"
   ]
  },
  {
   "cell_type": "code",
   "execution_count": null,
   "metadata": {
    "collapsed": true
   },
   "outputs": [],
   "source": []
  },
  {
   "cell_type": "code",
   "execution_count": 81,
   "metadata": {
    "collapsed": false
   },
   "outputs": [
    {
     "data": {
      "text/plain": [
       "1446527122.0"
      ]
     },
     "execution_count": 81,
     "metadata": {},
     "output_type": "execute_result"
    }
   ],
   "source": [
    "li[0]"
   ]
  },
  {
   "cell_type": "code",
   "execution_count": 75,
   "metadata": {
    "collapsed": false
   },
   "outputs": [
    {
     "ename": "TypeError",
     "evalue": "a float is required",
     "output_type": "error",
     "traceback": [
      "\u001b[1;31m---------------------------------------------------------------------------\u001b[0m",
      "\u001b[1;31mTypeError\u001b[0m                                 Traceback (most recent call last)",
      "\u001b[1;32m<ipython-input-75-16f200c2f515>\u001b[0m in \u001b[0;36m<module>\u001b[1;34m()\u001b[0m\n\u001b[1;32m----> 1\u001b[1;33m \u001b[0mbike\u001b[0m\u001b[1;33m[\u001b[0m\u001b[1;34m'date_stolen'\u001b[0m\u001b[1;33m]\u001b[0m \u001b[1;33m=\u001b[0m \u001b[0mtime\u001b[0m\u001b[1;33m.\u001b[0m\u001b[0mstrftime\u001b[0m\u001b[1;33m(\u001b[0m\u001b[1;34m'%Y-%m-%d %H:%M:%S'\u001b[0m\u001b[1;33m,\u001b[0m\u001b[0mtime\u001b[0m\u001b[1;33m.\u001b[0m\u001b[0mgmtime\u001b[0m\u001b[1;33m(\u001b[0m\u001b[0mlist\u001b[0m\u001b[1;33m(\u001b[0m\u001b[0mbike\u001b[0m\u001b[1;33m[\u001b[0m\u001b[1;34m'date_stolen_epoch'\u001b[0m\u001b[1;33m]\u001b[0m\u001b[1;33m)\u001b[0m\u001b[1;33m)\u001b[0m\u001b[1;33m)\u001b[0m\u001b[1;33m\u001b[0m\u001b[0m\n\u001b[0m",
      "\u001b[1;31mTypeError\u001b[0m: a float is required"
     ]
    }
   ],
   "source": [
    "bike['date_stolen'] = time.strftime('%Y-%m-%d %H:%M:%S',time.gmtime(list(bike['date_stolen_epoch'])))"
   ]
  },
  {
   "cell_type": "code",
   "execution_count": 63,
   "metadata": {
    "collapsed": false
   },
   "outputs": [
    {
     "data": {
      "text/html": [
       "<div>\n",
       "<table border=\"1\" class=\"dataframe\">\n",
       "  <thead>\n",
       "    <tr style=\"text-align: right;\">\n",
       "      <th></th>\n",
       "      <th></th>\n",
       "      <th>date_stolen</th>\n",
       "      <th>id</th>\n",
       "      <th>is_stock_img</th>\n",
       "      <th>page_no</th>\n",
       "      <th>year</th>\n",
       "    </tr>\n",
       "    <tr>\n",
       "      <th>stolen</th>\n",
       "      <th></th>\n",
       "      <th></th>\n",
       "      <th></th>\n",
       "      <th></th>\n",
       "      <th></th>\n",
       "      <th></th>\n",
       "    </tr>\n",
       "  </thead>\n",
       "  <tbody>\n",
       "    <tr>\n",
       "      <th rowspan=\"8\" valign=\"top\">False</th>\n",
       "      <th>count</th>\n",
       "      <td>1.600000e+01</td>\n",
       "      <td>18850.000000</td>\n",
       "      <td>18850</td>\n",
       "      <td>18850.000000</td>\n",
       "      <td>12673.000000</td>\n",
       "    </tr>\n",
       "    <tr>\n",
       "      <th>mean</th>\n",
       "      <td>1.356140e+09</td>\n",
       "      <td>40237.366313</td>\n",
       "      <td>0.06742706</td>\n",
       "      <td>511.330398</td>\n",
       "      <td>2016.469581</td>\n",
       "    </tr>\n",
       "    <tr>\n",
       "      <th>std</th>\n",
       "      <td>1.273595e+08</td>\n",
       "      <td>16087.592297</td>\n",
       "      <td>0.2507668</td>\n",
       "      <td>85.621456</td>\n",
       "      <td>364.318767</td>\n",
       "    </tr>\n",
       "    <tr>\n",
       "      <th>min</th>\n",
       "      <td>8.836344e+08</td>\n",
       "      <td>2.000000</td>\n",
       "      <td>False</td>\n",
       "      <td>369.000000</td>\n",
       "      <td>7.000000</td>\n",
       "    </tr>\n",
       "    <tr>\n",
       "      <th>25%</th>\n",
       "      <td>1.374732e+09</td>\n",
       "      <td>33126.250000</td>\n",
       "      <td>0</td>\n",
       "      <td>433.000000</td>\n",
       "      <td>2011.000000</td>\n",
       "    </tr>\n",
       "    <tr>\n",
       "      <th>50%</th>\n",
       "      <td>1.387562e+09</td>\n",
       "      <td>43055.500000</td>\n",
       "      <td>0</td>\n",
       "      <td>515.000000</td>\n",
       "      <td>2014.000000</td>\n",
       "    </tr>\n",
       "    <tr>\n",
       "      <th>75%</th>\n",
       "      <td>1.399723e+09</td>\n",
       "      <td>52136.500000</td>\n",
       "      <td>0</td>\n",
       "      <td>582.000000</td>\n",
       "      <td>2015.000000</td>\n",
       "    </tr>\n",
       "    <tr>\n",
       "      <th>max</th>\n",
       "      <td>1.415081e+09</td>\n",
       "      <td>61992.000000</td>\n",
       "      <td>True</td>\n",
       "      <td>664.000000</td>\n",
       "      <td>20156.000000</td>\n",
       "    </tr>\n",
       "    <tr>\n",
       "      <th rowspan=\"8\" valign=\"top\">True</th>\n",
       "      <th>count</th>\n",
       "      <td>3.314000e+04</td>\n",
       "      <td>33141.000000</td>\n",
       "      <td>33141</td>\n",
       "      <td>33141.000000</td>\n",
       "      <td>27120.000000</td>\n",
       "    </tr>\n",
       "    <tr>\n",
       "      <th>mean</th>\n",
       "      <td>1.341530e+09</td>\n",
       "      <td>24184.968890</td>\n",
       "      <td>0.09025075</td>\n",
       "      <td>184.988443</td>\n",
       "      <td>1954.993400</td>\n",
       "    </tr>\n",
       "    <tr>\n",
       "      <th>std</th>\n",
       "      <td>8.601141e+07</td>\n",
       "      <td>15602.675937</td>\n",
       "      <td>0.286545</td>\n",
       "      <td>106.401379</td>\n",
       "      <td>318.239561</td>\n",
       "    </tr>\n",
       "    <tr>\n",
       "      <th>min</th>\n",
       "      <td>5.119200e+06</td>\n",
       "      <td>34.000000</td>\n",
       "      <td>False</td>\n",
       "      <td>1.000000</td>\n",
       "      <td>0.000000</td>\n",
       "    </tr>\n",
       "    <tr>\n",
       "      <th>25%</th>\n",
       "      <td>1.287036e+09</td>\n",
       "      <td>12113.000000</td>\n",
       "      <td>0</td>\n",
       "      <td>93.000000</td>\n",
       "      <td>2005.000000</td>\n",
       "    </tr>\n",
       "    <tr>\n",
       "      <th>50%</th>\n",
       "      <td>1.359526e+09</td>\n",
       "      <td>20457.000000</td>\n",
       "      <td>0</td>\n",
       "      <td>185.000000</td>\n",
       "      <td>2009.000000</td>\n",
       "    </tr>\n",
       "    <tr>\n",
       "      <th>75%</th>\n",
       "      <td>1.410934e+09</td>\n",
       "      <td>32491.000000</td>\n",
       "      <td>0</td>\n",
       "      <td>277.000000</td>\n",
       "      <td>2012.000000</td>\n",
       "    </tr>\n",
       "    <tr>\n",
       "      <th>max</th>\n",
       "      <td>1.446527e+09</td>\n",
       "      <td>62000.000000</td>\n",
       "      <td>True</td>\n",
       "      <td>431.000000</td>\n",
       "      <td>9596.000000</td>\n",
       "    </tr>\n",
       "  </tbody>\n",
       "</table>\n",
       "</div>"
      ],
      "text/plain": [
       "               date_stolen            id is_stock_img       page_no          year\n",
       "stolen                                                                           \n",
       "False  count  1.600000e+01  18850.000000        18850  18850.000000  12673.000000\n",
       "       mean   1.356140e+09  40237.366313   0.06742706    511.330398   2016.469581\n",
       "       std    1.273595e+08  16087.592297    0.2507668     85.621456    364.318767\n",
       "       min    8.836344e+08      2.000000        False    369.000000      7.000000\n",
       "       25%    1.374732e+09  33126.250000            0    433.000000   2011.000000\n",
       "       50%    1.387562e+09  43055.500000            0    515.000000   2014.000000\n",
       "       75%    1.399723e+09  52136.500000            0    582.000000   2015.000000\n",
       "       max    1.415081e+09  61992.000000         True    664.000000  20156.000000\n",
       "True   count  3.314000e+04  33141.000000        33141  33141.000000  27120.000000\n",
       "       mean   1.341530e+09  24184.968890   0.09025075    184.988443   1954.993400\n",
       "       std    8.601141e+07  15602.675937     0.286545    106.401379    318.239561\n",
       "       min    5.119200e+06     34.000000        False      1.000000      0.000000\n",
       "       25%    1.287036e+09  12113.000000            0     93.000000   2005.000000\n",
       "       50%    1.359526e+09  20457.000000            0    185.000000   2009.000000\n",
       "       75%    1.410934e+09  32491.000000            0    277.000000   2012.000000\n",
       "       max    1.446527e+09  62000.000000         True    431.000000   9596.000000"
      ]
     },
     "execution_count": 63,
     "metadata": {},
     "output_type": "execute_result"
    }
   ],
   "source": [
    "stolen_grp = bike.groupby('stolen')\n",
    "stolen_grp.describe()"
   ]
  },
  {
   "cell_type": "code",
   "execution_count": 24,
   "metadata": {
    "collapsed": false
   },
   "outputs": [],
   "source": [
    "li = [final_df1,final_df]"
   ]
  },
  {
   "cell_type": "code",
   "execution_count": 25,
   "metadata": {
    "collapsed": false
   },
   "outputs": [],
   "source": [
    "final_df = pd.concat(li,ignore_index=True)"
   ]
  },
  {
   "cell_type": "code",
   "execution_count": 26,
   "metadata": {
    "collapsed": false
   },
   "outputs": [
    {
     "data": {
      "text/plain": [
       "(2749, 13)"
      ]
     },
     "execution_count": 26,
     "metadata": {},
     "output_type": "execute_result"
    }
   ],
   "source": [
    "final_df.shape"
   ]
  },
  {
   "cell_type": "code",
   "execution_count": 27,
   "metadata": {
    "collapsed": true
   },
   "outputs": [],
   "source": [
    "final_df.to_csv(\"seller_details_d.csv\")"
   ]
  }
 ],
 "metadata": {
  "kernelspec": {
   "display_name": "Python 2",
   "language": "python",
   "name": "python2"
  },
  "language_info": {
   "codemirror_mode": {
    "name": "ipython",
    "version": 2
   },
   "file_extension": ".py",
   "mimetype": "text/x-python",
   "name": "python",
   "nbconvert_exporter": "python",
   "pygments_lexer": "ipython2",
   "version": "2.7.10"
  }
 },
 "nbformat": 4,
 "nbformat_minor": 0
}
