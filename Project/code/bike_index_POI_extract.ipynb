{
 "cells": [
  {
   "cell_type": "markdown",
   "metadata": {
    "collapsed": false
   },
   "source": [
    "## Step 4 : Using Python Wrapper googleplaces for Google Places API to get points of interest around stolen location"
   ]
  },
  {
   "cell_type": "code",
   "execution_count": 2,
   "metadata": {
    "collapsed": true
   },
   "outputs": [],
   "source": [
    "import numpy as np\n",
    "import pandas as pd\n",
    "#package for JSON interaction\n",
    "import json\n",
    "#package to interact with URL's\n",
    "import urllib2\n",
    "\n",
    "#package to using google api\n",
    "import pygeocoder as geo\n",
    "\n",
    "#package to get nearby places\n",
    "import googleplaces as places\n",
    "\n",
    "#time to sleep\n",
    "import time\n",
    "pd.set_option('display.width', 500)\n",
    "pd.set_option('display.max_colwidth', 500)\n",
    "pd.set_option('display.max_columns', 100)\n",
    "pd.set_option('display.notebook_repr_html', True)"
   ]
  },
  {
   "cell_type": "markdown",
   "metadata": {},
   "source": [
    "Reading in data pulled for all bikes from BikeIndex."
   ]
  },
  {
   "cell_type": "code",
   "execution_count": 2,
   "metadata": {
    "collapsed": true
   },
   "outputs": [],
   "source": [
    "df = pd.read_csv(\"bike_details_csv.csv\")"
   ]
  },
  {
   "cell_type": "markdown",
   "metadata": {},
   "source": [
    "Extracting just the latitude , longitude for every id"
   ]
  },
  {
   "cell_type": "code",
   "execution_count": 3,
   "metadata": {
    "collapsed": false
   },
   "outputs": [],
   "source": [
    "df_sub = df.loc[df.stolen == True, ['id','latitude','longitude']]"
   ]
  },
  {
   "cell_type": "markdown",
   "metadata": {},
   "source": [
    "The process for pulling data from google places has a limit of 50K records per day so have to run this over multiple days. The below step puts in checks to pull in data for only bike id's not yet pulled."
   ]
  },
  {
   "cell_type": "code",
   "execution_count": 3,
   "metadata": {
    "collapsed": false
   },
   "outputs": [],
   "source": [
    "#Getting id's already loaded\n",
    "#df_loaded = pd.read_csv(\"places_details_csv.csv\")\n",
    "#df_loaded.columns = ['index','bike_id','google_place_id','place_lat','place_lng','place_name','place_types']\n",
    "\n",
    "#df_loaded_id = df_loaded.bike_id.unique()\n",
    "#len(df_loaded_id)\n",
    "\n",
    "#df_sub = df_sub[~df_sub['id'].isin(df_loaded_id)]\n",
    "#len(df_sub.id.unique())"
   ]
  },
  {
   "cell_type": "code",
   "execution_count": 7,
   "metadata": {
    "collapsed": false
   },
   "outputs": [],
   "source": [
    "df_sub = df_sub.reset_index()\n",
    "df_sub=df_sub.drop('index',axis=1)\n",
    "\n",
    "#sorting column to maintain integrity\n",
    "df_sub.sort(columns='id',inplace=True)"
   ]
  },
  {
   "cell_type": "markdown",
   "metadata": {},
   "source": [
    "#### Please key in your google places API key"
   ]
  },
  {
   "cell_type": "code",
   "execution_count": 4,
   "metadata": {
    "collapsed": true
   },
   "outputs": [],
   "source": [
    "#Google Places API key\n",
    "YOUR_API_KEY = ''\n"
   ]
  },
  {
   "cell_type": "markdown",
   "metadata": {},
   "source": [
    "The below function takes in bike record id, latitude , longitude and google places API key gets point of interest details for the selected radius of 1000 meters and writes it onto a CSV file."
   ]
  },
  {
   "cell_type": "code",
   "execution_count": 10,
   "metadata": {
    "collapsed": true
   },
   "outputs": [],
   "source": [
    "\n",
    "def extract_places(bike_id,lat,lng,YOUR_API_KEY):\n",
    "    \n",
    "    google_places = places.GooglePlaces(YOUR_API_KEY)\n",
    "    plc=google_places.nearby_search(lat_lng={'lat':lat,'lng':lng},radius=1000)\n",
    "    \n",
    "    places_df = pd.DataFrame()\n",
    "\n",
    "    for place in plc.places:\n",
    "        df_dict = {}\n",
    "        df_dict['bike_id'] = bike_id\n",
    "        df_dict['place_name'] = place.name\n",
    "        df_dict['place_types'] = [place.types]\n",
    "        df_dict['place_lat'] = place.geo_location['lat']\n",
    "        df_dict['place_lng'] = place.geo_location['lng']\n",
    "        df_dict['google_place_id'] = place.place_id\n",
    "\n",
    "        df_temp = pd.DataFrame(df_dict)\n",
    "    \n",
    "        if places_df.shape[0] == 0:\n",
    "            places_df = df_temp.copy()\n",
    "        else:\n",
    "            places_df = places_df.append(df_temp,ignore_index=True)\n",
    "            \n",
    "    col_order = ['bike_id','google_place_id','place_lat','place_lng','place_name','place_types']\n",
    "        \n",
    "    with open('places_details_csv.csv', 'a') as f:\n",
    "        places_df.to_csv(f, header=False,encoding='utf8',columns=col_order)\n",
    "\n",
    "\n"
   ]
  },
  {
   "cell_type": "markdown",
   "metadata": {},
   "source": [
    "The below loop runs through every record and calls the extract places function to pull points of interest information around every stolen location."
   ]
  },
  {
   "cell_type": "code",
   "execution_count": 11,
   "metadata": {
    "collapsed": false,
    "scrolled": true
   },
   "outputs": [
    {
     "name": "stdout",
     "output_type": "stream",
     "text": [
      "100\n",
      "200\n",
      "300\n",
      "400\n",
      "500\n",
      "600\n",
      "700\n",
      "800\n",
      "900\n",
      "1000\n",
      "1100\n",
      "1200\n",
      "1300\n",
      "1400\n",
      "1500\n",
      "1600\n",
      "1700\n",
      "1800\n",
      "1900\n",
      "2000\n",
      "2100\n",
      "2200\n",
      "2300\n",
      "2400\n",
      "2500\n",
      "2600\n",
      "2700\n",
      "2800\n",
      "2900\n",
      "3000\n",
      "3100\n",
      "3200\n",
      "3300\n",
      "3400\n",
      "3500\n",
      "3600\n",
      "3700\n",
      "3800\n",
      "3900\n",
      "4000\n",
      "4100\n",
      "4200\n",
      "4300\n",
      "4400\n"
     ]
    }
   ],
   "source": [
    "ctr = 0\n",
    "for i, row in df_sub.iterrows():\n",
    "    ctr = ctr+1\n",
    "    lat = float(row['latitude'])\n",
    "    lng = float(row['longitude'])\n",
    "    bike_id = row['id']\n",
    "    \n",
    "    if (np.isnan(lat) == False and np.isnan(lat) == False):\n",
    "        extract_places(bike_id,lat,lng,YOUR_API_KEY)\n",
    "        \n",
    "    if (ctr%100 == 0):\n",
    "        print ctr\n",
    "\n",
    "\n"
   ]
  }
 ],
 "metadata": {
  "kernelspec": {
   "display_name": "Python 2",
   "language": "python",
   "name": "python2"
  },
  "language_info": {
   "codemirror_mode": {
    "name": "ipython",
    "version": 2
   },
   "file_extension": ".py",
   "mimetype": "text/x-python",
   "name": "python",
   "nbconvert_exporter": "python",
   "pygments_lexer": "ipython2",
   "version": "2.7.10"
  }
 },
 "nbformat": 4,
 "nbformat_minor": 0
}
