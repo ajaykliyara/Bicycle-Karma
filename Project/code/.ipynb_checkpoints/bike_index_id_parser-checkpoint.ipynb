{
 "cells": [
  {
   "cell_type": "markdown",
   "metadata": {
    "collapsed": false
   },
   "source": [
    "## Data extractions cont..\n",
    "\n",
    "## Step 2 : Using the master list of id, pull attributes for each bike id\n",
    "## Step 3 : Using Python Wrapper pygeocoder to get geographical attributes for a given lat, long\n"
   ]
  },
  {
   "cell_type": "code",
   "execution_count": 1,
   "metadata": {
    "collapsed": true
   },
   "outputs": [],
   "source": [
    "import numpy as np\n",
    "import pandas as pd\n",
    "#package for JSON interaction\n",
    "import json\n",
    "#package to interact with URL's\n",
    "import urllib2\n",
    "\n",
    "#package to using google api\n",
    "import pygeocoder as geo\n",
    "\n",
    "#package to get nearby places\n",
    "import googleplaces as places\n",
    "\n",
    "#time to sleep\n",
    "import time\n",
    "pd.set_option('display.width', 500)\n",
    "pd.set_option('display.max_colwidth', 500)\n",
    "pd.set_option('display.max_columns', 100)\n",
    "pd.set_option('display.notebook_repr_html', True)"
   ]
  },
  {
   "cell_type": "code",
   "execution_count": 2,
   "metadata": {
    "collapsed": false
   },
   "outputs": [],
   "source": [
    "#loading the master list of id\n",
    "id_master = pd.read_csv('bike_id_master.csv')"
   ]
  },
  {
   "cell_type": "code",
   "execution_count": 3,
   "metadata": {
    "collapsed": false
   },
   "outputs": [],
   "source": [
    "#removing unecessary columns\n",
    "id_master = id_master.drop('Unnamed: 0',axis=1)"
   ]
  },
  {
   "cell_type": "code",
   "execution_count": 17,
   "metadata": {
    "collapsed": false
   },
   "outputs": [
    {
     "data": {
      "text/plain": [
       "59624"
      ]
     },
     "execution_count": 17,
     "metadata": {},
     "output_type": "execute_result"
    }
   ],
   "source": [
    "#length check\n",
    "len(id_master.id.unique())"
   ]
  },
  {
   "cell_type": "markdown",
   "metadata": {},
   "source": [
    "The below section was added as a fail safe mechanism as this process of pulling data is time consuming. This step basically just makes a list of id's yet to be pulled and resumes data pull for just those id's."
   ]
  },
  {
   "cell_type": "code",
   "execution_count": 2,
   "metadata": {
    "collapsed": false
   },
   "outputs": [],
   "source": [
    "#df_id_loaded = pd.read_csv(\"bike_details_csv.csv\")\n",
    "#id_loaded = df_id_loaded.id.unique()\n",
    "#id = set(id_master.id) - set(id_loaded)\n",
    "#id_df = pd.DataFrame(pd.Series(list(id),name='id'))\n",
    "#sorting column to maintain integrity\n",
    "#id_df.sort(columns='id',inplace=True)"
   ]
  },
  {
   "cell_type": "markdown",
   "metadata": {},
   "source": [
    "The below function takes in a url for each bike id and parses all attributes for it from bikeindex."
   ]
  },
  {
   "cell_type": "code",
   "execution_count": 12,
   "metadata": {
    "collapsed": false
   },
   "outputs": [],
   "source": [
    "#function to parse \n",
    "# have to handle missing stolen record case\n",
    "def bike_id_parser(url):\n",
    "    #commenting sleeper as lot of processing must add sometime\n",
    "    #time.sleep(0.5)\n",
    "    #open url\n",
    "    f = urllib2.urlopen(url)\n",
    "\n",
    "    #load json from URL, dict returned\n",
    "    data = json.load(f)\n",
    "    \n",
    "    \n",
    "    data_bikes = data['bike']\n",
    "    bike_df = pd.DataFrame([data_bikes],columns=['id','title','serial','manufacturer_name','frame_model','year','thumb','large_img','is_stock_img','stolen','stolen_location','date_stolen','registration_created_at','registration_updated_at','url','api_url','manufacturer_id','paint_description','name','frame_size','description','rear_tire_narrow','front_tire_narrow','type_of_cycle','test_bike','rear_wheel_size_iso_bsd','front_wheel_size_iso_bsd','handlebar_type_slug','frame_material_slug','front_gear_type_slug','rear_gear_type_slug'])\n",
    "    bike_df['frame_colors'] = str(data_bikes['frame_colors'])\n",
    "    \n",
    "    if (bike_df.shape[0] > 1):\n",
    "        print '%s creating multiple rows in df'%(url)\n",
    "\n",
    "    stolen_dict = data_bikes['stolen_record']\n",
    "    if stolen_dict <> None:\n",
    "        bike_stolen_df = pd.DataFrame([stolen_dict])\n",
    "        bike_stolen_df = bike_stolen_df.rename(columns = {'id':'stolen_id','date_stolen':'s_date_stolen','location':'s_location','created_at':'s_rec_created_at'})\n",
    "        \n",
    "        #using pygeocoder to get stolen location attributes based on lat, long\n",
    "        #der stands for derived\n",
    "        lat = bike_stolen_df.latitude.values[0]\n",
    "        lng = bike_stolen_df.longitude.values[0]\n",
    "        if (lat <> None and lng <> None):\n",
    "            results = geo.Geocoder.reverse_geocode(float(lat), float(lng))\n",
    "            bike_stolen_df['sder_formatted_address'] = results.formatted_address\n",
    "            bike_stolen_df['sder_street_number'] = results.street_number\n",
    "            bike_stolen_df['sder_route'] = results.route\n",
    "            bike_stolen_df['sder_postal_code'] = results.postal_code\n",
    "            bike_stolen_df['sder_neighborhood'] = results.neighborhood\n",
    "            bike_stolen_df['sder_city'] = results.city\n",
    "            bike_stolen_df['sder_county'] = results.county\n",
    "            bike_stolen_df['sder_state'] = results.state\n",
    "            bike_stolen_df['sder_country'] = results.country\n",
    "        else:\n",
    "            bike_stolen_df['sder_formatted_address'] = None\n",
    "            bike_stolen_df['sder_street_number'] = None\n",
    "            bike_stolen_df['sder_route'] = None\n",
    "            bike_stolen_df['sder_postal_code'] = None\n",
    "            bike_stolen_df['sder_neighborhood'] = None\n",
    "            bike_stolen_df['sder_city'] = None\n",
    "            bike_stolen_df['sder_county'] = None\n",
    "            bike_stolen_df['sder_state'] = None\n",
    "            bike_stolen_df['sder_country'] = None    \n",
    "    else:\n",
    "        #define correct order with rename\n",
    "        bike_stolen_df = pd.DataFrame(columns=['stolen_id','s_date_stolen','s_location','latitude','longitude','theft_description','locking_description','lock_defeat_description','police_report_number','police_report_department','s_rec_created_at','create_open311','sder_formatted_address','sder_street_number','sder_route','sder_postal_code','sder_neighborhood','sder_city','sder_county','sder_state','sder_country'])\n",
    "    \n",
    "    #df to concat vertically\n",
    "    li = [bike_df,bike_stolen_df]\n",
    "    final_df = pd.concat(li,axis=1)\n",
    "    \n",
    "    final_df['date_stolen'].fillna(0, inplace=True)\n",
    "    final_df['s_rec_created_at'].fillna(0, inplace=True)\n",
    "    #creating copy of epoch dates\n",
    "    final_df.loc[:,'date_stolen_epoch']  = final_df.loc[:,'date_stolen']\n",
    "    final_df.loc[:,'registration_created_at_epoch'] = final_df.loc[:,'registration_created_at']\n",
    "    final_df.loc[:,'registration_updated_at_epoch'] = final_df.loc[:,'registration_updated_at']\n",
    "    final_df.loc[:,'s_rec_created_at_epoch'] = final_df.loc[:,'s_rec_created_at']\n",
    "    \n",
    "    \n",
    "    \n",
    "    #converting to actual dates\n",
    "    \n",
    "    final_df.loc[:,'date_stolen'] = time.strftime('%Y-%m-%d %H:%M:%S',time.gmtime(final_df.loc[:,'date_stolen']))\n",
    "    final_df.loc[:,'registration_created_at'] = time.strftime('%Y-%m-%d %H:%M:%S',time.gmtime(final_df.loc[:,'registration_created_at']))\n",
    "    final_df.loc[:,'registration_updated_at'] = time.strftime('%Y-%m-%d %H:%M:%S',time.gmtime(final_df.loc[:,'registration_updated_at']))\n",
    "    final_df.loc[:,'s_rec_created_at'] = time.strftime('%Y-%m-%d %H:%M:%S',time.gmtime(final_df.loc[:,'s_rec_created_at']))\n",
    "\n",
    "    \n",
    "    ##bike_df['url'] = url.encode('utf-8')\n",
    "    ##bike_df['page_no'] = page_no\n",
    "\n",
    "    return final_df\n"
   ]
  },
  {
   "cell_type": "markdown",
   "metadata": {},
   "source": [
    "The below piece of code loops through the master list of id's"
   ]
  },
  {
   "cell_type": "code",
   "execution_count": 13,
   "metadata": {
    "collapsed": false
   },
   "outputs": [
    {
     "name": "stdout",
     "output_type": "stream",
     "text": [
      "Records parsed = 100\n",
      "Records parsed = 200\n",
      "Records parsed = 300\n",
      "Records parsed = 400\n",
      "Records parsed = 500\n",
      "Records parsed = 600\n",
      "Records parsed = 700\n",
      "Records parsed = 800\n",
      "Records parsed = 900\n",
      "Records parsed = 1000\n",
      "Records parsed = 1100\n",
      "Records parsed = 1200\n",
      "Records parsed = 1300\n",
      "Records parsed = 1400\n",
      "Records parsed = 1500\n",
      "Records parsed = 1600\n",
      "Records parsed = 1700\n"
     ]
    }
   ],
   "source": [
    "col_order = ['id','title','serial','manufacturer_name','frame_model','year','thumb','large_img','is_stock_img','stolen','stolen_location','date_stolen','registration_created_at','registration_updated_at','url','api_url','manufacturer_id','paint_description','name','frame_size','description','rear_tire_narrow','front_tire_narrow','type_of_cycle','test_bike','rear_wheel_size_iso_bsd','front_wheel_size_iso_bsd','handlebar_type_slug','frame_material_slug','front_gear_type_slug','rear_gear_type_slug','stolen_id','s_date_stolen','s_location','latitude','longitude','theft_description','locking_description','lock_defeat_description','police_report_number','police_report_department','s_rec_created_at','create_open311','sder_formatted_address','sder_street_number','sder_route','sder_postal_code','sder_neighborhood','sder_city','sder_county','sder_state','sder_country','date_stolen_epoch','registration_created_at_epoch','registration_updated_at_epoch','s_rec_created_at_epoch']\n",
    "#uncomment if running from scratch\n",
    "bike_df = pd.DataFrame(columns=col_order)\n",
    "#variable defining the order of fields\n",
    "error_dict = {}\n",
    "try:\n",
    "    for i,bike_id in enumerate(id_df.id):\n",
    "        url = 'https://bikeindex.org:443/api/v2/bikes/' + str(bike_id)\n",
    "\n",
    "        #dataframe with 100 bikes that was read from url\n",
    "        temp_bike_df = bike_id_parser(url)\n",
    "    \n",
    "        if temp_bike_df.shape[0] == 0:\n",
    "            print 'record # = %d, bike id = %d'%(i,bike_id)\n",
    "            print 'url returned zero records'\n",
    "            break\n",
    "    \n",
    "        with open('bike_details_csv.csv', 'a') as f:\n",
    "            if bike_df.shape[0] == 0:\n",
    "                temp_bike_df.to_csv(f, header=True,encoding='utf8',columns=col_order)\n",
    "                bike_df = bike_df.append(temp_bike_df,ignore_index=True)\n",
    "            else:\n",
    "                bike_df = bike_df.append(temp_bike_df,ignore_index=True)\n",
    "                temp_bike_df.to_csv(f, header=False,encoding='utf8',columns=col_order)\n",
    "    \n",
    "        #inserting print to get an indication of number of pages parsed so far\n",
    "        rec_no = i + 1\n",
    "        if rec_no%100 == 0:\n",
    "            print('Records parsed = %d'%(rec_no))\n",
    "except Exception,e:\n",
    "    error_dict[bike_id] = e\n",
    "    print error_dict\n",
    "\n"
   ]
  },
  {
   "cell_type": "markdown",
   "metadata": {},
   "source": [
    "Once the data is pulled it is cleaned and written onto a CSV file."
   ]
  },
  {
   "cell_type": "code",
   "execution_count": 27,
   "metadata": {
    "collapsed": true
   },
   "outputs": [],
   "source": [
    "#removing unecessary columns\n",
    "df = df.drop('Unnamed: 0',axis=1)\n",
    "\n",
    "with open('bike_details_csv.csv', 'a') as f:\n",
    "    df.to_csv(f, header=True,encoding='utf8',columns=col_order)"
   ]
  }
 ],
 "metadata": {
  "kernelspec": {
   "display_name": "Python 2",
   "language": "python",
   "name": "python2"
  },
  "language_info": {
   "codemirror_mode": {
    "name": "ipython",
    "version": 2
   },
   "file_extension": ".py",
   "mimetype": "text/x-python",
   "name": "python",
   "nbconvert_exporter": "python",
   "pygments_lexer": "ipython2",
   "version": "2.7.10"
  }
 },
 "nbformat": 4,
 "nbformat_minor": 0
}
