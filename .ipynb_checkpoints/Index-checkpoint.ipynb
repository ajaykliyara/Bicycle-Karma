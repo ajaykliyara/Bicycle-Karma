{
 "cells": [
  {
   "cell_type": "markdown",
   "metadata": {},
   "source": [
    "<img src=\"Project/code/images/bicycle_thief.jpg\" height=\"120\" width=\"300\">\n",
    "\n",
    "<h6 align=\"center\">image source: http://www.coroflot.com/monicao/posters?specialty=13&msa=299& </h6> "
   ]
  },
  {
   "cell_type": "markdown",
   "metadata": {},
   "source": [
    "<hr>\n",
    "\n",
    "# Project:          Bicycle Karma: Predicting and tracking bike theft\n",
    " \n",
    "## Team:                Holmes\n",
    "\n",
    "\n",
    "\n",
    "### [Project URL](https://sites.google.com/a/g.harvard.edu/bicyclekarma/home)\n",
    "\n",
    "### [Project screencast](https://sites.google.com/a/g.harvard.edu/bicyclekarma/home/screencast)\n",
    "\n",
    "<hr>\n",
    "\n",
    "## Project Overview\n",
    "\n",
    "Bicycle theft has become a glaring problem in many cities, particularly university centric. What is more interesting is the statistics surround this issue. For e.g. as reported by a survey conducted on 2000 riders in Montreal, only 36% of the riders reported the theft and from that only 2.4 percent of the stolen bicycles were recovered. The problem extends well beyond the university scape. FBI statistics from 2014 indicates that 3.6% (184575) of larceny theft is from bicycle thefts that were reported. There could be lots more unreported bicycle thefts. \n",
    "\n",
    "Many of the stolen bicycles are sold as parts or as a whole on sites such as e-bay. To enable buyers and victims track the origins of these bikes (parts), ‘Bikeindex’ (a bike registry) is encouraging bicycle owners to register their bicycles as well as report stolen bicycles. They have approximately 60K registered bicycles and have helped in recovering approximately 2650 stolen bicycles\n",
    "\n",
    "<hr>\n",
    "\n",
    "## Project Focus\n",
    "\n",
    "\n",
    "1. What factors influences a bicycle theft? \n",
    "2. Can we identify proportion of bikes stolen from home vs public places?\n",
    "\n",
    "<hr>\n",
    "\n",
    "## Project Core Components & iPython Notebooks\n",
    "\n",
    "\n",
    "1. [Data retrieval](Project/code/Data Extraction and Transformation.ipynb) \n",
    "2. [Exploratory Analysis](Project/code/BikeIndex - Exploratory Analysis.ipynb)\n",
    "2. [Classfication and Modeling](Project/code/Bike theft Prediction - Classification.ipynb)\n",
    "3. [Text Analysis](Project/code/Text_Analysis.ipynb)\n",
    "\n",
    "<hr>\n",
    "\n",
    "### Data\n",
    "\n",
    "All data that was created is present in the 'Project/Data' folder. "
   ]
  },
  {
   "cell_type": "markdown",
   "metadata": {
    "collapsed": true
   },
   "source": [
    "#### Project By: Ajay Antony Kliyara, Anushadevi Mohan & Dilip Balachandran\n",
    "#### 08 Dec 2015"
   ]
  },
  {
   "cell_type": "code",
   "execution_count": null,
   "metadata": {
    "collapsed": true
   },
   "outputs": [],
   "source": []
  }
 ],
 "metadata": {
  "kernelspec": {
   "display_name": "Python 2",
   "language": "python",
   "name": "python2"
  },
  "language_info": {
   "codemirror_mode": {
    "name": "ipython",
    "version": 2
   },
   "file_extension": ".py",
   "mimetype": "text/x-python",
   "name": "python",
   "nbconvert_exporter": "python",
   "pygments_lexer": "ipython2",
   "version": "2.7.10"
  }
 },
 "nbformat": 4,
 "nbformat_minor": 0
}
