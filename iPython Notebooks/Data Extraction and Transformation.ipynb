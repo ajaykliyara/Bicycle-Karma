{
 "cells": [
  {
   "cell_type": "markdown",
   "metadata": {},
   "source": [
    "#Extracting Data from BikeIndex.Org\n",
    "\n",
    "[BikeIndex.org](https://bikeindex.org/documentation/api_v2) makes available an api to pull data on its online registry website. The scrapping process involved the following steps,\n",
    "\n",
    "\n",
    "* Pull all record id's for bikes in bikeindex registry using the BikeIndex : \n",
    "[BikeSearchAPI](https://bikeindex.org/documentation/api_v2#!/bikes_search/GET_version_bikes_search_format_get_0)\n",
    "\n",
    "   IPython Notebook : [BIKE INDEX ID EXTRACTION](./bike_index_id_masterlist_scrapper.ipynb)\n",
    "\n",
    "\n",
    "* Using the list of id's obtained in the first step, find all attributes for each bike id using API BikeIndex : [ID](https://bikeindex.org/documentation/api_v2#!/bikes/GET_version_bikes_id_format_get_0)\n",
    "\n",
    "\n",
    "* For Stolen Bikes using Google Geocoding API through python wrapper [pygeocoder](https://pypi.python.org/pypi/pygeocoder) to get all geographical attributes like Country, City etc. based on latitude, longitude of location from which bike was stolen\n",
    ".\n",
    "   IPython Notebook : [BIKE INDEX ID PARSER](./bike_index_id_parser.ipynb)\n",
    "\n",
    "   \n",
    "* For Stolen Bikes using Google Places API through python wrapper [googleplaces](https://pypi.python.org/pypi/python-google-places) pull data for all points of interest within 1000 meters of the stolen location.\n",
    "\n",
    "   IPython Notebook : [GOOGLE PLACES EXTRACTION](./bike_index_POI_extract.ipynb)\n",
    "    \n",
    "   \n"
   ]
  }
 ],
 "metadata": {
  "kernelspec": {
   "display_name": "Python 2",
   "language": "python",
   "name": "python2"
  },
  "language_info": {
   "codemirror_mode": {
    "name": "ipython",
    "version": 2
   },
   "file_extension": ".py",
   "mimetype": "text/x-python",
   "name": "python",
   "nbconvert_exporter": "python",
   "pygments_lexer": "ipython2",
   "version": "2.7.10"
  }
 },
 "nbformat": 4,
 "nbformat_minor": 0
}
